{
 "cells": [
  {
   "cell_type": "code",
   "execution_count": 1,
   "id": "5bf60b84",
   "metadata": {},
   "outputs": [],
   "source": [
    "from selenium import webdriver\n",
    "from bs4 import BeautifulSoup\n",
    "import time\n",
    "import pandas as pd"
   ]
  },
  {
   "cell_type": "code",
   "execution_count": 2,
   "id": "25cc5cc4",
   "metadata": {},
   "outputs": [],
   "source": [
    "df = pd.DataFrame(columns=['Company','Title','Experience','Location','Salary'])"
   ]
  },
  {
   "cell_type": "code",
   "execution_count": 3,
   "id": "b7fd8ded",
   "metadata": {},
   "outputs": [
    {
     "name": "stderr",
     "output_type": "stream",
     "text": [
      "<ipython-input-3-0fb8ecd19111>:4: DeprecationWarning: executable_path has been deprecated, please pass in a Service object\n",
      "  driver = webdriver.Chrome(\"D:\\chromedriver.exe\")\n"
     ]
    }
   ],
   "source": [
    "for param in range(1,20):\n",
    "    url = \"https://www.naukri.com/software-developer-jobs?k=software%20developer\"\n",
    "\n",
    "    driver = webdriver.Chrome(\"D:\\chromedriver.exe\")\n",
    "    driver.get(url)\n",
    "\n",
    "    time.sleep(1)\n",
    "\n",
    "    soup = BeautifulSoup(driver.page_source,'html5lib')\n",
    "\n",
    "    # print(soup.prettify())\n",
    "\n",
    "    driver.close()\n",
    "\n",
    "    results = soup.find(class_='list')\n",
    "    job_elems = results.find_all('article',class_='jobTuple bgWhite br4 mb-8')\n",
    "\n",
    "    for job_elem in job_elems:\n",
    "        # Company Name\n",
    "        Company = job_elem.find('a',class_='subTitle ellipsis fleft')\n",
    "\n",
    "        # Post Title\n",
    "        Title = job_elem.find('a',class_='title fw500 ellipsis')\n",
    "\n",
    "\n",
    "        # Years of experience Required\n",
    "        Exp = job_elem.find('li',class_='fleft grey-text br2 placeHolderLi experience')\n",
    "        Exp_span = Exp.find('span',class_='ellipsis fleft fs12 lh16')\n",
    "        if Exp_span is None:\n",
    "            continue\n",
    "        else:\n",
    "            Experience = Exp_span.text\n",
    "        \n",
    "         # Location for the job post\n",
    "        Loc = job_elem.find('li',class_='fleft grey-text br2 placeHolderLi location')\n",
    "        Loc_exp = Loc.find('span',class_='ellipsis fleft fs12 lh16')\n",
    "        if Loc_exp is None:\n",
    "            continue\n",
    "        else:\n",
    "            Location = Loc_exp.text\n",
    "\n",
    "        # Salary offered for the job\n",
    "        Sal = job_elem.find('li',class_='fleft grey-text br2 placeHolderLi salary')\n",
    "        Sal_span = Sal.find('span',class_='ellipsis fleft fs12 lh16')\n",
    "        if Sal_span is None:\n",
    "            continue\n",
    "        else:\n",
    "            Salary = Sal_span.text\n",
    "\n",
    "       \n",
    "\n",
    "        \n",
    "    #   Appending data to the DataFrame \n",
    "        df=df.append({'Company':Company.text,'Title':Title.text,'Experience':Experience,'Location':Location,'Salary':Salary},ignore_index = True)"
   ]
  },
  {
   "cell_type": "code",
   "execution_count": 4,
   "id": "9d3cc85c",
   "metadata": {},
   "outputs": [
    {
     "data": {
      "text/plain": [
       "(266, 5)"
      ]
     },
     "execution_count": 4,
     "metadata": {},
     "output_type": "execute_result"
    }
   ],
   "source": [
    "df.shape\n"
   ]
  },
  {
   "cell_type": "code",
   "execution_count": 5,
   "id": "df43b5d3",
   "metadata": {},
   "outputs": [
    {
     "data": {
      "text/html": [
       "<div>\n",
       "<style scoped>\n",
       "    .dataframe tbody tr th:only-of-type {\n",
       "        vertical-align: middle;\n",
       "    }\n",
       "\n",
       "    .dataframe tbody tr th {\n",
       "        vertical-align: top;\n",
       "    }\n",
       "\n",
       "    .dataframe thead th {\n",
       "        text-align: right;\n",
       "    }\n",
       "</style>\n",
       "<table border=\"1\" class=\"dataframe\">\n",
       "  <thead>\n",
       "    <tr style=\"text-align: right;\">\n",
       "      <th></th>\n",
       "      <th>Company</th>\n",
       "      <th>Title</th>\n",
       "      <th>Experience</th>\n",
       "      <th>Location</th>\n",
       "      <th>Salary</th>\n",
       "    </tr>\n",
       "  </thead>\n",
       "  <tbody>\n",
       "    <tr>\n",
       "      <th>0</th>\n",
       "      <td>Siemens Limited</td>\n",
       "      <td>Senior Software Developer (C#.net)</td>\n",
       "      <td>0-5 Yrs</td>\n",
       "      <td>Bangalore/Bengaluru</td>\n",
       "      <td>Not disclosed</td>\n",
       "    </tr>\n",
       "    <tr>\n",
       "      <th>1</th>\n",
       "      <td>Pinnacle Finserv Advisors Pvt. Ltd.</td>\n",
       "      <td>Software Developer - Web Technologies</td>\n",
       "      <td>0-2 Yrs</td>\n",
       "      <td>Kanpur</td>\n",
       "      <td>1,50,000 - 3,00,000 PA.</td>\n",
       "    </tr>\n",
       "    <tr>\n",
       "      <th>2</th>\n",
       "      <td>Dharani Info Technologies Pvt Ltd</td>\n",
       "      <td>Trainee Software Developer</td>\n",
       "      <td>0-1 Yrs</td>\n",
       "      <td>Guntur</td>\n",
       "      <td>1,50,000 - 3,50,000 PA.</td>\n",
       "    </tr>\n",
       "    <tr>\n",
       "      <th>3</th>\n",
       "      <td>Psiborg Technologies Private Limited</td>\n",
       "      <td>Embedded Software Developer</td>\n",
       "      <td>0-2 Yrs</td>\n",
       "      <td>Noida</td>\n",
       "      <td>2,50,000 - 4,50,000 PA.</td>\n",
       "    </tr>\n",
       "    <tr>\n",
       "      <th>4</th>\n",
       "      <td>Reliance Jio Infocomm Ltd.</td>\n",
       "      <td>Junior Software Developer</td>\n",
       "      <td>0-4 Yrs</td>\n",
       "      <td>Bangalore/Bengaluru</td>\n",
       "      <td>Not disclosed</td>\n",
       "    </tr>\n",
       "  </tbody>\n",
       "</table>\n",
       "</div>"
      ],
      "text/plain": [
       "                                Company  \\\n",
       "0                       Siemens Limited   \n",
       "1   Pinnacle Finserv Advisors Pvt. Ltd.   \n",
       "2     Dharani Info Technologies Pvt Ltd   \n",
       "3  Psiborg Technologies Private Limited   \n",
       "4            Reliance Jio Infocomm Ltd.   \n",
       "\n",
       "                                   Title Experience             Location  \\\n",
       "0     Senior Software Developer (C#.net)    0-5 Yrs  Bangalore/Bengaluru   \n",
       "1  Software Developer - Web Technologies    0-2 Yrs               Kanpur   \n",
       "2             Trainee Software Developer    0-1 Yrs               Guntur   \n",
       "3            Embedded Software Developer    0-2 Yrs                Noida   \n",
       "4              Junior Software Developer    0-4 Yrs  Bangalore/Bengaluru   \n",
       "\n",
       "                    Salary  \n",
       "0            Not disclosed  \n",
       "1  1,50,000 - 3,00,000 PA.  \n",
       "2  1,50,000 - 3,50,000 PA.  \n",
       "3  2,50,000 - 4,50,000 PA.  \n",
       "4            Not disclosed  "
      ]
     },
     "execution_count": 5,
     "metadata": {},
     "output_type": "execute_result"
    }
   ],
   "source": [
    "df.head()"
   ]
  },
  {
   "cell_type": "code",
   "execution_count": 6,
   "id": "97daf853",
   "metadata": {},
   "outputs": [],
   "source": [
    "df.to_csv(\"D:/Naukri csv.csv\",index=False)"
   ]
  },
  {
   "cell_type": "code",
   "execution_count": null,
   "id": "2093f98b",
   "metadata": {},
   "outputs": [],
   "source": []
  }
 ],
 "metadata": {
  "kernelspec": {
   "display_name": "Python 3",
   "language": "python",
   "name": "python3"
  },
  "language_info": {
   "codemirror_mode": {
    "name": "ipython",
    "version": 3
   },
   "file_extension": ".py",
   "mimetype": "text/x-python",
   "name": "python",
   "nbconvert_exporter": "python",
   "pygments_lexer": "ipython3",
   "version": "3.8.8"
  }
 },
 "nbformat": 4,
 "nbformat_minor": 5
}
